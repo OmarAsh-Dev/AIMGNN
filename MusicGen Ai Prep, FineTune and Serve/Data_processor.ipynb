{
  "nbformat": 4,
  "nbformat_minor": 0,
  "metadata": {
    "colab": {
      "provenance": []
    },
    "kernelspec": {
      "name": "python3",
      "display_name": "Python 3"
    },
    "language_info": {
      "name": "python"
    }
  },
  "cells": [
    {
      "cell_type": "markdown",
      "source": [
        "# Script to make .Jason Keys"
      ],
      "metadata": {
        "id": "hiDIEM_6ZpTw"
      }
    },
    {
      "cell_type": "code",
      "execution_count": null,
      "metadata": {
        "colab": {
          "base_uri": "https://localhost:8080/"
        },
        "id": "AgHFw08DbhRv",
        "outputId": "3b9ca15c-01f9-4b11-d4e4-59cfea0387d6",
        "collapsed": true
      },
      "outputs": [
        {
          "output_type": "stream",
          "name": "stdout",
          "text": [
            "Requirement already satisfied: librosa in /usr/local/lib/python3.11/dist-packages (0.10.2.post1)\n",
            "Requirement already satisfied: soundfile in /usr/local/lib/python3.11/dist-packages (0.13.1)\n",
            "Requirement already satisfied: audioread>=2.1.9 in /usr/local/lib/python3.11/dist-packages (from librosa) (3.0.1)\n",
            "Requirement already satisfied: numpy!=1.22.0,!=1.22.1,!=1.22.2,>=1.20.3 in /usr/local/lib/python3.11/dist-packages (from librosa) (1.26.4)\n",
            "Requirement already satisfied: scipy>=1.2.0 in /usr/local/lib/python3.11/dist-packages (from librosa) (1.13.1)\n",
            "Requirement already satisfied: scikit-learn>=0.20.0 in /usr/local/lib/python3.11/dist-packages (from librosa) (1.6.1)\n",
            "Requirement already satisfied: joblib>=0.14 in /usr/local/lib/python3.11/dist-packages (from librosa) (1.4.2)\n",
            "Requirement already satisfied: decorator>=4.3.0 in /usr/local/lib/python3.11/dist-packages (from librosa) (4.4.2)\n",
            "Requirement already satisfied: numba>=0.51.0 in /usr/local/lib/python3.11/dist-packages (from librosa) (0.60.0)\n",
            "Requirement already satisfied: pooch>=1.1 in /usr/local/lib/python3.11/dist-packages (from librosa) (1.8.2)\n",
            "Requirement already satisfied: soxr>=0.3.2 in /usr/local/lib/python3.11/dist-packages (from librosa) (0.5.0.post1)\n",
            "Requirement already satisfied: typing-extensions>=4.1.1 in /usr/local/lib/python3.11/dist-packages (from librosa) (4.12.2)\n",
            "Requirement already satisfied: lazy-loader>=0.1 in /usr/local/lib/python3.11/dist-packages (from librosa) (0.4)\n",
            "Requirement already satisfied: msgpack>=1.0 in /usr/local/lib/python3.11/dist-packages (from librosa) (1.1.0)\n",
            "Requirement already satisfied: cffi>=1.0 in /usr/local/lib/python3.11/dist-packages (from soundfile) (1.17.1)\n",
            "Requirement already satisfied: pycparser in /usr/local/lib/python3.11/dist-packages (from cffi>=1.0->soundfile) (2.22)\n",
            "Requirement already satisfied: packaging in /usr/local/lib/python3.11/dist-packages (from lazy-loader>=0.1->librosa) (24.2)\n",
            "Requirement already satisfied: llvmlite<0.44,>=0.43.0dev0 in /usr/local/lib/python3.11/dist-packages (from numba>=0.51.0->librosa) (0.43.0)\n",
            "Requirement already satisfied: platformdirs>=2.5.0 in /usr/local/lib/python3.11/dist-packages (from pooch>=1.1->librosa) (4.3.6)\n",
            "Requirement already satisfied: requests>=2.19.0 in /usr/local/lib/python3.11/dist-packages (from pooch>=1.1->librosa) (2.32.3)\n",
            "Requirement already satisfied: threadpoolctl>=3.1.0 in /usr/local/lib/python3.11/dist-packages (from scikit-learn>=0.20.0->librosa) (3.5.0)\n",
            "Requirement already satisfied: charset-normalizer<4,>=2 in /usr/local/lib/python3.11/dist-packages (from requests>=2.19.0->pooch>=1.1->librosa) (3.4.1)\n",
            "Requirement already satisfied: idna<4,>=2.5 in /usr/local/lib/python3.11/dist-packages (from requests>=2.19.0->pooch>=1.1->librosa) (3.10)\n",
            "Requirement already satisfied: urllib3<3,>=1.21.1 in /usr/local/lib/python3.11/dist-packages (from requests>=2.19.0->pooch>=1.1->librosa) (2.3.0)\n",
            "Requirement already satisfied: certifi>=2017.4.17 in /usr/local/lib/python3.11/dist-packages (from requests>=2.19.0->pooch>=1.1->librosa) (2024.12.14)\n"
          ]
        },
        {
          "output_type": "stream",
          "name": "stderr",
          "text": [
            "Processing MP3s:   0%|          | 0/310 [00:00<?, ?it/s]<ipython-input-5-0f6bfe395ef3>:51: DeprecationWarning: Conversion of an array with ndim > 0 to a scalar is deprecated, and will error in future. Ensure you extract a single element from your array before performing this operation. (Deprecated NumPy 1.25.)\n",
            "  \"bpm\": int(tempo) if tempo else None,\n",
            "Processing MP3s: 100%|██████████| 310/310 [16:10<00:00,  3.13s/it]"
          ]
        },
        {
          "output_type": "stream",
          "name": "stdout",
          "text": [
            "Success: 310 | Failed: 0\n",
            "Metadata saved to: /content/drive/MyDrive/processed_datasets/violin keys\n"
          ]
        },
        {
          "output_type": "stream",
          "name": "stderr",
          "text": [
            "\n"
          ]
        }
      ],
      "source": [
        "!pip install librosa soundfile\n",
        "import os\n",
        "import json\n",
        "import librosa\n",
        "from tqdm import tqdm\n",
        "\n",
        "# -------------------------------------\n",
        "# Configuration (Edit Paths!)\n",
        "# -------------------------------------\n",
        "DRIVE_AUDIO_DIR = \"/content/drive/MyDrive/uncoditional dataset/download genres/violin\"\n",
        "DRIVE_METADATA_DIR = \"/content/drive/MyDrive/processed_datasets/violin keys\"\n",
        "ERROR_LOG = \"/content/drive/MyDrive/processed_datasets/error_logV.txt\"\n",
        "\n",
        "# Ensure directories exist\n",
        "os.makedirs(DRIVE_METADATA_DIR, exist_ok=True)\n",
        "os.makedirs(os.path.dirname(ERROR_LOG), exist_ok=True)\n",
        "\n",
        "# -------------------------------------\n",
        "# Generate Metadata\n",
        "# -------------------------------------\n",
        "audio_files = [f for f in os.listdir(DRIVE_AUDIO_DIR) if f.lower().endswith(\".mp3\")]\n",
        "open(ERROR_LOG, 'w').close()  # Reset error log\n",
        "\n",
        "errors = []\n",
        "\n",
        "for filename in tqdm(audio_files, desc=\"Processing MP3s\"):\n",
        "    audio_path = os.path.join(DRIVE_AUDIO_DIR, filename)\n",
        "    name = os.path.splitext(filename)[0]\n",
        "    output_path = os.path.join(DRIVE_METADATA_DIR, f\"{name}.json\")\n",
        "\n",
        "    try:\n",
        "        y, sr = librosa.load(audio_path, sr=None, mono=True, duration=None)\n",
        "\n",
        "        # Check for empty audio\n",
        "        if len(y) == 0:\n",
        "            raise ValueError(\"Empty audio file.\")\n",
        "\n",
        "        duration = round(librosa.get_duration(y=y, sr=sr), 2)\n",
        "        tempo, _ = librosa.beat.beat_track(y=y, sr=sr)\n",
        "\n",
        "        # Validate BPM\n",
        "        if tempo < 40 or tempo > 240:\n",
        "            tempo = None\n",
        "\n",
        "        metadata = {\n",
        "            \"key\": \"\",\n",
        "            \"name\": name,\n",
        "            \"file_extension\": \"mp3\",\n",
        "            \"duration\": duration,\n",
        "            \"sample_rate\": sr,\n",
        "            \"bpm\": int(tempo) if tempo else None,\n",
        "            \"artist\": \"Unknown Artist\",\n",
        "            \"title\": name,\n",
        "            \"genre\": \"relaxing violin\",\n",
        "            \"description\": \"\",\n",
        "            \"keywords\": \"\",\n",
        "            \"instrument\": \"violin\",\n",
        "            \"moods\": []\n",
        "        }\n",
        "\n",
        "        with open(output_path, 'w') as f:\n",
        "            json.dump(metadata, f, indent=2)\n",
        "\n",
        "    except Exception as e:\n",
        "        errors.append(filename)\n",
        "        with open(ERROR_LOG, 'a') as f:\n",
        "            f.write(f\"{filename}: {str(e)}\\n\")\n",
        "\n",
        "# Summary\n",
        "print(f\"Success: {len(audio_files) - len(errors)} | Failed: {len(errors)}\")\n",
        "print(f\"Metadata saved to: {DRIVE_METADATA_DIR}\")"
      ]
    },
    {
      "cell_type": "markdown",
      "source": [
        "# Enhanced Version of .jason keys script"
      ],
      "metadata": {
        "id": "nbvGwBAZaDR8"
      }
    },
    {
      "cell_type": "code",
      "source": [
        "# Install required packages (Colab-specific)\n",
        "!pip install librosa soundfile tqdm music-tag\n",
        "\n",
        "# Import necessary libraries\n",
        "import os              # For file/directory operations\n",
        "import json            # To save metadata in JSON format\n",
        "import librosa         # For audio analysis (loading, duration, BPM detection)\n",
        "import numpy as np     # For numerical operations (e.g., checking NaN values)\n",
        "import music_tag       # For mood/instrument/genre prediction\n",
        "from tqdm import tqdm  # For progress bar during processing\n",
        "\n",
        "# -------------------------------------\n",
        "# Configuration: Set up paths\n",
        "# Edit these to match your directory structure\n",
        "# -------------------------------------\n",
        "DRIVE_AUDIO_DIR = \"/content/drive/MyDrive/uncoditional dataset/download genres/Piano\"\n",
        "DRIVE_METADATA_DIR = \"/content/drive/MyDrive/processed_datasets/Piano keys\"\n",
        "ERROR_LOG = \"/content/drive/MyDrive/processed_datasets/error_logV.txt\"\n",
        "\n",
        "# Ensure output directories exist\n",
        "os.makedirs(DRIVE_METADATA_DIR, exist_ok=True)                    # Folder for JSON key files\n",
        "os.makedirs(os.path.dirname(ERROR_LOG), exist_ok=True)            # Folder for error log\n",
        "\n",
        "# -------------------------------------\n",
        "# Find all MP3 files in the input folder\n",
        "# -------------------------------------\n",
        "audio_files = [f for f in os.listdir(DRIVE_AUDIO_DIR) if f.lower().endswith(\".mp3\")]\n",
        "\n",
        "# List to store names of files that fail during processing\n",
        "errors = []\n",
        "\n",
        "# -------------------------------------\n",
        "# Clear previous error log\n",
        "# -------------------------------------\n",
        "with open(ERROR_LOG, 'w') as f:\n",
        "    pass  # Clears any existing content in the error log\n",
        "\n",
        "# -------------------------------------\n",
        "# Main Loop: Process Each Audio File\n",
        "# -------------------------------------\n",
        "for filename in tqdm(audio_files, desc=\"Processing Tracks\"):\n",
        "    # Build full paths for audio and metadata output\n",
        "    audio_path = os.path.join(DRIVE_AUDIO_DIR, filename)\n",
        "    name = os.path.splitext(filename)[0]  # Remove extension from filename\n",
        "    output_path = os.path.join(DRIVE_METADATA_DIR, f\"{name}.json\")\n",
        "\n",
        "    try:\n",
        "        # Load audio file using librosa\n",
        "        y, sr = librosa.load(audio_path, sr=None, mono=True)\n",
        "\n",
        "        # Check if the loaded audio is empty\n",
        "        if len(y) == 0:\n",
        "            raise ValueError(\"Empty audio file.\")\n",
        "\n",
        "        # Calculate duration of the audio in seconds\n",
        "        duration = round(librosa.get_duration(y=y, sr=sr), 2)\n",
        "\n",
        "        # Estimate tempo (BPM) using librosa's beat tracker\n",
        "        tempo, _ = librosa.beat.beat_track(y=y, sr=sr)\n",
        "\n",
        "        # Handle invalid tempo values\n",
        "        if isinstance(tempo, float) and np.isnan(tempo):\n",
        "            tempo = None  # No valid tempo detected\n",
        "        elif tempo is not None:\n",
        "            # Filter out unrealistic tempo values (too fast or too slow)\n",
        "            if tempo < 40 or tempo > 240:\n",
        "                tempo = None\n",
        "\n",
        "        # Use music-tag to predict mood, genre, instrument, etc.\n",
        "        try:\n",
        "            f = music_tag.load_file(audio_path)\n",
        "            predicted_mood = str(f['mood']).strip()\n",
        "            predicted_instrument = str(f['instrument']).strip()\n",
        "            predicted_genre = str(f['genre']).strip()\n",
        "        except Exception as e:\n",
        "            print(f\"Tag prediction failed for {filename}: {e}\")\n",
        "            predicted_mood = \"\"\n",
        "            predicted_instrument = \"\"\n",
        "            predicted_genre = \"\"\n",
        "\n",
        "        # Construct metadata dictionary\n",
        "        metadata = {\n",
        "            \"key\": \"\",  # Reserved for unique ID or future use\n",
        "            \"artist\": \"Unknown Artist\",  # Placeholder, can be filled later\n",
        "            \"sample_rate\": sr,  # From the audio file\n",
        "            \"file_extension\": \"mp3\",  # Hardcoded since only MP3s are used\n",
        "            \"description\": \"\",  # Empty placeholder\n",
        "            \"keywords\": \"\",  # Empty placeholder\n",
        "            \"duration\": duration,  # Calculated from the audio\n",
        "            \"bpm\": int(round(tempo)) if tempo is not None else \"\",\n",
        "            \"genre\": predicted_genre or \"relaxing Piano\",  # Use predicted genre if available\n",
        "            \"title\": name,  # Based on filename\n",
        "            \"name\": name,  # Used internally by systems like AudioCraft\n",
        "            \"instrument\": predicted_instrument or \"Piano\",  # Use predicted instrument if available\n",
        "            \"moods\": predicted_mood.split(\",\") if predicted_mood else []  # Split into list\n",
        "        }\n",
        "\n",
        "        # Save metadata as a JSON file\n",
        "        with open(output_path, 'w') as f:\n",
        "            json.dump(metadata, f, indent=2)\n",
        "\n",
        "    except Exception as e:\n",
        "        # If an error occurs, log the filename and exception message\n",
        "        errors.append(filename)\n",
        "        with open(ERROR_LOG, 'a') as f:\n",
        "            f.write(f\"{filename}: {str(e)}\\n\")\n",
        "\n",
        "# -------------------------------------\n",
        "# Print Summary of Results\n",
        "# -------------------------------------\n",
        "print(f\"Success: {len(audio_files) - len(errors)} | Failed: {len(errors)}\")\n",
        "print(f\"Metadata saved to: {DRIVE_METADATA_DIR}\")"
      ],
      "metadata": {
        "id": "LQZZFQuRPRd8"
      },
      "execution_count": null,
      "outputs": []
    },
    {
      "cell_type": "markdown",
      "source": [
        "# .jason to CSv converter"
      ],
      "metadata": {
        "id": "eTaVCl6WaNEA"
      }
    },
    {
      "cell_type": "code",
      "source": [
        "import os\n",
        "import json\n",
        "import pandas as pd\n",
        "from google.colab import files\n",
        "\n",
        "# Define the folder containing the JSON files\n",
        "folder_path = '/content/drive/MyDrive/processed_datasets/violin keys'  # Change this to your folder path\n",
        "\n",
        "# List to hold the data from all JSON files\n",
        "data_list = []\n",
        "\n",
        "# Iterate over all files in the folder\n",
        "for filename in os.listdir(folder_path):\n",
        "    if filename.endswith('.json'):\n",
        "        file_path = os.path.join(folder_path, filename)\n",
        "\n",
        "        # Open and load the JSON file\n",
        "        with open(file_path, 'r') as json_file:\n",
        "            data = json.load(json_file)\n",
        "\n",
        "            # If the JSON file contains a list of objects, extend the data_list\n",
        "            if isinstance(data, list):\n",
        "                data_list.extend(data)\n",
        "            else:\n",
        "                data_list.append(data)\n",
        "\n",
        "# Convert the list of dictionaries to a DataFrame\n",
        "df = pd.DataFrame(data_list)\n",
        "\n",
        "# Save the DataFrame to a CSV file\n",
        "csv_filename = 'violin keys.csv'\n",
        "df.to_csv(csv_filename, index=False)\n",
        "\n",
        "# Download the CSV file to your local machine\n",
        "files.download(csv_filename)\n",
        "\n",
        "print(f\"CSV file '{csv_filename}' has been created and downloaded.\")"
      ],
      "metadata": {
        "id": "n_wAALDm5jsx",
        "colab": {
          "base_uri": "https://localhost:8080/",
          "height": 34
        },
        "outputId": "fcdc3071-bd2d-4dab-8563-feef5b8481c8",
        "collapsed": true
      },
      "execution_count": null,
      "outputs": [
        {
          "output_type": "display_data",
          "data": {
            "text/plain": [
              "<IPython.core.display.Javascript object>"
            ],
            "application/javascript": [
              "\n",
              "    async function download(id, filename, size) {\n",
              "      if (!google.colab.kernel.accessAllowed) {\n",
              "        return;\n",
              "      }\n",
              "      const div = document.createElement('div');\n",
              "      const label = document.createElement('label');\n",
              "      label.textContent = `Downloading \"${filename}\": `;\n",
              "      div.appendChild(label);\n",
              "      const progress = document.createElement('progress');\n",
              "      progress.max = size;\n",
              "      div.appendChild(progress);\n",
              "      document.body.appendChild(div);\n",
              "\n",
              "      const buffers = [];\n",
              "      let downloaded = 0;\n",
              "\n",
              "      const channel = await google.colab.kernel.comms.open(id);\n",
              "      // Send a message to notify the kernel that we're ready.\n",
              "      channel.send({})\n",
              "\n",
              "      for await (const message of channel.messages) {\n",
              "        // Send a message to notify the kernel that we're ready.\n",
              "        channel.send({})\n",
              "        if (message.buffers) {\n",
              "          for (const buffer of message.buffers) {\n",
              "            buffers.push(buffer);\n",
              "            downloaded += buffer.byteLength;\n",
              "            progress.value = downloaded;\n",
              "          }\n",
              "        }\n",
              "      }\n",
              "      const blob = new Blob(buffers, {type: 'application/binary'});\n",
              "      const a = document.createElement('a');\n",
              "      a.href = window.URL.createObjectURL(blob);\n",
              "      a.download = filename;\n",
              "      div.appendChild(a);\n",
              "      a.click();\n",
              "      div.remove();\n",
              "    }\n",
              "  "
            ]
          },
          "metadata": {}
        },
        {
          "output_type": "display_data",
          "data": {
            "text/plain": [
              "<IPython.core.display.Javascript object>"
            ],
            "application/javascript": [
              "download(\"download_5e3aef4f-5fa2-4643-ab0d-6ec218af3dc2\", \"violin keys.csv\", 40645)"
            ]
          },
          "metadata": {}
        },
        {
          "output_type": "stream",
          "name": "stdout",
          "text": [
            "CSV file 'violin keys.csv' has been created and downloaded.\n"
          ]
        }
      ]
    },
    {
      "cell_type": "markdown",
      "source": [
        "# .jason to Csv converter enhanced Version"
      ],
      "metadata": {
        "id": "of6m5bgTauqT"
      }
    },
    {
      "cell_type": "code",
      "source": [
        "import os\n",
        "import json\n",
        "import pandas as pd\n",
        "from google.colab import files\n",
        "\n",
        "# Define the folder containing the JSON files\n",
        "folder_path = '/content/drive/MyDrive/processed_datasets/Piano keys'  # Change this to your folder path\n",
        "\n",
        "# Get folder name for CSV output\n",
        "folder_name = os.path.basename(folder_path)\n",
        "csv_filename = f\"{folder_name}.csv\"\n",
        "\n",
        "# List to hold the data from all JSON files\n",
        "data_list = []\n",
        "\n",
        "# Iterate over all files in the folder\n",
        "for filename in os.listdir(folder_path):\n",
        "    if filename.endswith('.json'):\n",
        "        file_path = os.path.join(folder_path, filename)\n",
        "\n",
        "        try:\n",
        "            # Open and load the JSON file\n",
        "            with open(file_path, 'r') as json_file:\n",
        "                data = json.load(json_file)\n",
        "\n",
        "                # Handle both single objects and lists\n",
        "                if isinstance(data, list):\n",
        "                    for item in data:\n",
        "                        # Flatten moods if needed\n",
        "                        if isinstance(item.get(\"moods\"), list):\n",
        "                            item[\"moods\"] = \", \".join(item[\"moods\"])\n",
        "                    data_list.extend(data)\n",
        "                else:\n",
        "                    # Flatten moods if needed\n",
        "                    if isinstance(data.get(\"moods\"), list):\n",
        "                        data[\"moods\"] = \", \".join(data[\"moods\"])\n",
        "                    data_list.append(data)\n",
        "\n",
        "        except Exception as e:\n",
        "            print(f\"Error reading {filename}: {e}\")\n",
        "\n",
        "# Convert the list of dictionaries to a DataFrame\n",
        "df = pd.DataFrame(data_list)\n",
        "\n",
        "# Save the DataFrame to a CSV file\n",
        "df.to_csv(csv_filename, index=False)\n",
        "\n",
        "# Download the CSV file to your local machine\n",
        "files.download(csv_filename)\n",
        "\n",
        "print(f\"CSV file '{csv_filename}' has been created and downloaded.\")"
      ],
      "metadata": {
        "id": "WEzyuExSTT2S"
      },
      "execution_count": null,
      "outputs": []
    }
  ]
}